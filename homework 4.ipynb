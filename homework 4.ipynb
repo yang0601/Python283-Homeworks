{
 "cells": [
  {
   "cell_type": "markdown",
   "metadata": {},
   "source": [
    "自訂函數 1.1：寫一個判斷輸入的正整數是否為質數的函數 is_prime()\n",
    "\n",
    "自訂函數 1.2：寫一個函數 count_primes(x, y) 計算 x 到 y 之間有幾個質數（包含 x, y）\n",
    "\n",
    "自訂函數 2：寫一個 Fibonacci 數列的產生函數，有三個輸入：第一個數字 f1、第二個數字 f2 與數列長度 fib_len fib_gen(f1, f2, fib_len)\n",
    "\n",
    "自訂函數 3.1：寫一個公正的骰子 dice() 函數（使用 random.choice()）\n",
    "\n",
    "自訂函數 3.2：延續 3.1 寫一個 six_for_three_times() 函數計算擲幾次公正的骰子才會有三個六，並且把每次擲的記錄也回傳（使用 list 的 count() 方法）"
   ]
  },
  {
   "cell_type": "markdown",
   "metadata": {},
   "source": [
    "自訂函數 1.1：寫一個判斷輸入的正整數是否為質數的函數 is_prime()"
   ]
  },
  {
   "cell_type": "code",
   "execution_count": 9,
   "metadata": {
    "collapsed": true
   },
   "outputs": [],
   "source": [
    "def is_prime(x):\n",
    "    num = x\n",
    "    i = 2\n",
    "    yy = True\n",
    "    while (i <= int(num) ** 0.5):\n",
    "        if (int(num) % i == 0):\n",
    "            yy = False\n",
    "        i += 1\n",
    "    if (yy == False):\n",
    "        print(\"%s不是質數\"%num)\n",
    "    else:\n",
    "        print(\"%s是質數\"%num)"
   ]
  },
  {
   "cell_type": "code",
   "execution_count": null,
   "metadata": {},
   "outputs": [],
   "source": [
    "is_prime(1)"
   ]
  },
  {
   "cell_type": "markdown",
   "metadata": {},
   "source": [
    "自訂函數 1.2：寫一個函數 count_primes(x, y) 計算 x 到 y 之間有幾個質數（包含 x, y）"
   ]
  },
  {
   "cell_type": "code",
   "execution_count": 8,
   "metadata": {},
   "outputs": [],
   "source": [
    "def count_primes(x, y):\n",
    "    QQQ = list(range(x, y+1))\n",
    "    for QQ in range(x, y+1):\n",
    "        for num in range(2, QQ):\n",
    "            if (QQ % num == 0):\n",
    "                QQQ.remove (QQ) \n",
    "                break\n",
    "                \n",
    "    print(x, \"到\", y, \"之間的質數共\", len(QQQ), \"個，分別為:\", QQQ)"
   ]
  },
  {
   "cell_type": "code",
   "execution_count": 7,
   "metadata": {},
   "outputs": [
    {
     "ename": "NameError",
     "evalue": "name 'count_primes' is not defined",
     "output_type": "error",
     "traceback": [
      "\u001b[1;31m---------------------------------------------------------------------------\u001b[0m",
      "\u001b[1;31mNameError\u001b[0m                                 Traceback (most recent call last)",
      "\u001b[1;32m<ipython-input-7-877206bfe910>\u001b[0m in \u001b[0;36m<module>\u001b[1;34m()\u001b[0m\n\u001b[1;32m----> 1\u001b[1;33m \u001b[0mcount_primes\u001b[0m\u001b[1;33m(\u001b[0m\u001b[1;36m1\u001b[0m\u001b[1;33m,\u001b[0m\u001b[1;36m19\u001b[0m\u001b[1;33m)\u001b[0m\u001b[1;33m\u001b[0m\u001b[0m\n\u001b[0m",
      "\u001b[1;31mNameError\u001b[0m: name 'count_primes' is not defined"
     ]
    }
   ],
   "source": [
    "count_primes(1,19)"
   ]
  },
  {
   "cell_type": "markdown",
   "metadata": {},
   "source": [
    "自訂函數 2：寫一個 Fibonacci 數列的產生函數，有三個輸入：第一個數字 f1、第二個數字 f2 與數列長度 fib_len fib_gen(f1, f2, fib_len)"
   ]
  },
  {
   "cell_type": "code",
   "execution_count": 5,
   "metadata": {
    "collapsed": true
   },
   "outputs": [],
   "source": [
    "def fib_gen(first=0, second=1, le=50):\n",
    "    fibonacci = [first, second]\n",
    "    while len(fibonacci) < le:\n",
    "        first, second = second, first + second\n",
    "        fibonacci.append(second)\n",
    "    return fibonacci"
   ]
  },
  {
   "cell_type": "code",
   "execution_count": 6,
   "metadata": {},
   "outputs": [
    {
     "name": "stdout",
     "output_type": "stream",
     "text": [
      "[0, 1, 1, 2, 3, 5, 8, 13, 21, 34, 55, 89, 144, 233, 377, 610, 987, 1597, 2584, 4181, 6765, 10946, 17711, 28657, 46368, 75025, 121393, 196418, 317811, 514229, 832040, 1346269, 2178309, 3524578, 5702887, 9227465, 14930352, 24157817, 39088169, 63245986, 102334155, 165580141, 267914296, 433494437, 701408733, 1134903170, 1836311903, 2971215073, 4807526976, 7778742049]\n"
     ]
    }
   ],
   "source": [
    "print(fib_gen())"
   ]
  },
  {
   "cell_type": "markdown",
   "metadata": {},
   "source": [
    "自訂函數 3.1：寫一個公正的骰子 dice() 函數（使用 random.choice()）"
   ]
  },
  {
   "cell_type": "code",
   "execution_count": 10,
   "metadata": {},
   "outputs": [
    {
     "name": "stdout",
     "output_type": "stream",
     "text": [
      "[5]\n"
     ]
    }
   ],
   "source": [
    "from random import choice\n",
    "dice = [1, 2, 3, 4, 5, 6]\n",
    "flips = []\n",
    "flips.append(choice(dice))\n",
    "\n",
    "    \n",
    "print(flips)\n"
   ]
  },
  {
   "cell_type": "markdown",
   "metadata": {},
   "source": [
    "自訂函數 3.2：延續 3.1 寫一個 six_for_three_times() 函數計算擲幾次公正的骰子才會有三個六，並且把每次擲的記錄也回傳（使用 list 的 count() 方法）"
   ]
  },
  {
   "cell_type": "code",
   "execution_count": 4,
   "metadata": {},
   "outputs": [],
   "source": [
    "def six_for_three_times():\n",
    "    dice = [\"1\", \"2\", \"3\", \"4\", \"5\", \"6\"]\n",
    "    flips = []\n",
    "    while flips.count(\"6\")< 3:\n",
    "        flips.append(choice(dice))\n",
    "    \n",
    "    print(\"總共擲了\", len(flips), \"次\")\n",
    "    print(\"投擲紀錄: \", flips)"
   ]
  }
 ],
 "metadata": {
  "kernelspec": {
   "display_name": "Python 3",
   "language": "python",
   "name": "python3"
  },
  "language_info": {
   "codemirror_mode": {
    "name": "ipython",
    "version": 3
   },
   "file_extension": ".py",
   "mimetype": "text/x-python",
   "name": "python",
   "nbconvert_exporter": "python",
   "pygments_lexer": "ipython3",
   "version": "3.6.1"
  }
 },
 "nbformat": 4,
 "nbformat_minor": 2
}
