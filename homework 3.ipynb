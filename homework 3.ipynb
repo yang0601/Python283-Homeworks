{
 "cells": [
  {
   "cell_type": "markdown",
   "metadata": {},
   "source": [
    "印出所有可以將 87 整除的因數（正數）"
   ]
  },
  {
   "cell_type": "code",
   "execution_count": 6,
   "metadata": {},
   "outputs": [
    {
     "name": "stdout",
     "output_type": "stream",
     "text": [
      "[1, 3, 29, 87]\n"
     ]
    }
   ],
   "source": [
    "def find_factor(x):\n",
    "    f = []\n",
    "    for i in range(1, x+1):\n",
    "        if (x % i) == 0:\n",
    "            f.append(i)\n",
    "    return f\n",
    "\n",
    "print(find_factor(87))"
   ]
  },
  {
   "cell_type": "markdown",
   "metadata": {},
   "source": [
    "將 1 到 100 印出，但是：\n",
    "碰到 3 的倍數印出 \"Bingo!\"\n",
    "碰到 5 的倍數印出 \"Awesome!\"\n",
    "碰到 15 的倍數印出 \"Fantastic!\""
   ]
  },
  {
   "cell_type": "code",
   "execution_count": 7,
   "metadata": {},
   "outputs": [
    {
     "name": "stdout",
     "output_type": "stream",
     "text": [
      "1\n",
      "2\n",
      "Bingo!\n",
      "4\n",
      "Awesome!\n",
      "Bingo!\n",
      "7\n",
      "8\n",
      "Bingo!\n",
      "Awesome!\n",
      "11\n",
      "Bingo!\n",
      "13\n",
      "14\n",
      "Fantastic!\n",
      "16\n",
      "17\n",
      "Bingo!\n",
      "19\n",
      "Awesome!\n",
      "Bingo!\n",
      "22\n",
      "23\n",
      "Bingo!\n",
      "Awesome!\n",
      "26\n",
      "Bingo!\n",
      "28\n",
      "29\n",
      "Fantastic!\n",
      "31\n",
      "32\n",
      "Bingo!\n",
      "34\n",
      "Awesome!\n",
      "Bingo!\n",
      "37\n",
      "38\n",
      "Bingo!\n",
      "Awesome!\n",
      "41\n",
      "Bingo!\n",
      "43\n",
      "44\n",
      "Fantastic!\n",
      "46\n",
      "47\n",
      "Bingo!\n",
      "49\n",
      "Awesome!\n",
      "Bingo!\n",
      "52\n",
      "53\n",
      "Bingo!\n",
      "Awesome!\n",
      "56\n",
      "Bingo!\n",
      "58\n",
      "59\n",
      "Fantastic!\n",
      "61\n",
      "62\n",
      "Bingo!\n",
      "64\n",
      "Awesome!\n",
      "Bingo!\n",
      "67\n",
      "68\n",
      "Bingo!\n",
      "Awesome!\n",
      "71\n",
      "Bingo!\n",
      "73\n",
      "74\n",
      "Fantastic!\n",
      "76\n",
      "77\n",
      "Bingo!\n",
      "79\n",
      "Awesome!\n",
      "Bingo!\n",
      "82\n",
      "83\n",
      "Bingo!\n",
      "Awesome!\n",
      "86\n",
      "Bingo!\n",
      "88\n",
      "89\n",
      "Fantastic!\n",
      "91\n",
      "92\n",
      "Bingo!\n",
      "94\n",
      "Awesome!\n",
      "Bingo!\n",
      "97\n",
      "98\n",
      "Bingo!\n",
      "Awesome!\n"
     ]
    }
   ],
   "source": [
    "for x in range(1, 101):\n",
    "    if (x % 15) == 0:\n",
    "        print(\"Fantastic!\")\n",
    "    elif (x % 5) == 0:\n",
    "        print(\"Awesome!\")\n",
    "    elif(x % 3) == 0:\n",
    "        print(\"Bingo!\")\n",
    "    else:\n",
    "        print(x)"
   ]
  },
  {
   "cell_type": "code",
   "execution_count": null,
   "metadata": {
    "collapsed": true
   },
   "outputs": [],
   "source": []
  }
 ],
 "metadata": {
  "kernelspec": {
   "display_name": "Python 3",
   "language": "python",
   "name": "python3"
  },
  "language_info": {
   "codemirror_mode": {
    "name": "ipython",
    "version": 3
   },
   "file_extension": ".py",
   "mimetype": "text/x-python",
   "name": "python",
   "nbconvert_exporter": "python",
   "pygments_lexer": "ipython3",
   "version": "3.6.1"
  }
 },
 "nbformat": 4,
 "nbformat_minor": 2
}
