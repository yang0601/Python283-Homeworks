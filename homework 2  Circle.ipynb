{
 "cells": [
  {
   "cell_type": "markdown",
   "metadata": {},
   "source": [
    "投擲一枚公正的骰子，總共出現三個六才停止"
   ]
  },
  {
   "cell_type": "code",
   "execution_count": 1,
   "metadata": {},
   "outputs": [
    {
     "name": "stdout",
     "output_type": "stream",
     "text": [
      "[5, 5, 3, 1, 3, 6, 1, 4, 1, 4, 5, 6, 3, 2, 6]\n",
      "15\n"
     ]
    }
   ],
   "source": [
    "from random import choice\n",
    "dice = [1, 2, 3, 4, 5, 6]\n",
    "flips = []\n",
    "while flips.count(6) < 3:\n",
    "    flips.append(choice(dice))\n",
    "\n",
    "    \n",
    "print(flips)\n",
    "print(len(flips))"
   ]
  },
  {
   "cell_type": "markdown",
   "metadata": {},
   "source": [
    "計算 range(1, 101) 的標準差"
   ]
  },
  {
   "cell_type": "code",
   "execution_count": 47,
   "metadata": {},
   "outputs": [
    {
     "name": "stdout",
     "output_type": "stream",
     "text": [
      "1到100加總 5050\n",
      "平均值 50.5\n",
      "83325.0\n",
      "標準差 4.95\n"
     ]
    }
   ],
   "source": [
    "import math\n",
    "\n",
    "import numpy as np\n",
    "\n",
    "L = list(range(1, 101))\n",
    "a = np.average(range(1, 101))\n",
    "summation = sum(L)\n",
    "\n",
    "\n",
    "Y = np.sum([(i - a) ** 2 for i in L])\n",
    "\n",
    "\n",
    "standard = np.sqrt((YY / len(L)))\n",
    "        \n",
    "print('1到100加總' ,summation)\n",
    "print('平均值' ,average)\n",
    "print(Y)\n",
    "print('標準差' ,standard)\n",
    "\n",
    "\n"
   ]
  },
  {
   "cell_type": "code",
   "execution_count": 43,
   "metadata": {},
   "outputs": [
    {
     "data": {
      "text/plain": [
       "28.866070047722118"
      ]
     },
     "execution_count": 43,
     "metadata": {},
     "output_type": "execute_result"
    }
   ],
   "source": [
    "np.std(L) "
   ]
  },
  {
   "cell_type": "code",
   "execution_count": null,
   "metadata": {
    "collapsed": true
   },
   "outputs": [],
   "source": []
  }
 ],
 "metadata": {
  "kernelspec": {
   "display_name": "Python 3",
   "language": "python",
   "name": "python3"
  },
  "language_info": {
   "codemirror_mode": {
    "name": "ipython",
    "version": 3
   },
   "file_extension": ".py",
   "mimetype": "text/x-python",
   "name": "python",
   "nbconvert_exporter": "python",
   "pygments_lexer": "ipython3",
   "version": "3.6.1"
  }
 },
 "nbformat": 4,
 "nbformat_minor": 2
}
